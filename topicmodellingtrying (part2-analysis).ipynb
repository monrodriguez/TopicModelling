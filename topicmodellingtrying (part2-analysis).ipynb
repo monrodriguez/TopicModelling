{
 "cells": [
  {
   "cell_type": "code",
   "execution_count": null,
   "metadata": {},
   "outputs": [],
   "source": [
    "import pandas as pd\n",
    "import matplotlib.pyplot as plt\n"
   ]
  },
  {
   "cell_type": "code",
   "execution_count": null,
   "metadata": {},
   "outputs": [],
   "source": [
    "folder = \"XXX\"\n",
    "file='XXX.csv'"
   ]
  },
  {
   "cell_type": "code",
   "execution_count": null,
   "metadata": {},
   "outputs": [],
   "source": [
    "df=pd.read_csv(folder+file)"
   ]
  },
  {
   "cell_type": "code",
   "execution_count": null,
   "metadata": {},
   "outputs": [],
   "source": [
    "Nigeriatopics=dfmodernEN.loc[dfmodernEN.country_iso3 == \"NGA\"]\n",
    "ZMBtopics=dfmodernEN.loc[dfmodernEN.country_iso3 == \"ZMB\"]\n",
    "Nigeriatopicscount=Nigeriatopics.topic.value_counts()\n",
    "ZMBtopicscount=ZMBtopics.topic.value_counts()"
   ]
  },
  {
   "cell_type": "code",
   "execution_count": null,
   "metadata": {},
   "outputs": [],
   "source": [
    "#df2 = dfmodernEN.pivot(index='country_iso3', columns='topic', values=dfmodernEN['topic'].value_counts())\n",
    "df2=pd.DataFrame({'count' : dfmodernEN.groupby( [\"country_iso3\",\"topic\"] ).size()}).reset_index()"
   ]
  },
  {
   "cell_type": "markdown",
   "metadata": {},
   "source": [
    "Check the contents of news belonging to one topic (1)"
   ]
  },
  {
   "cell_type": "code",
   "execution_count": null,
   "metadata": {},
   "outputs": [],
   "source": [
    "dfbla=dfNGA.loc[dfNGA.topic == 1]\n",
    "dfbla['news_content'].head(50)"
   ]
  },
  {
   "cell_type": "markdown",
   "metadata": {},
   "source": [
    "create dataframe from filtered news belonging to one topic (6) "
   ]
  },
  {
   "cell_type": "code",
   "execution_count": null,
   "metadata": {},
   "outputs": [],
   "source": [
    "df2.loc[df2.topic== 6]"
   ]
  },
  {
   "cell_type": "code",
   "execution_count": null,
   "metadata": {},
   "outputs": [],
   "source": [
    "df2 = df2.pivot(index='country_iso3', columns='topic', values='count')"
   ]
  },
  {
   "cell_type": "code",
   "execution_count": null,
   "metadata": {},
   "outputs": [],
   "source": [
    "ax=df2.plot( kind='bar', figsize=(20,15), width = 1, linewidth=2, stacked=True, fontsize=12)\n",
    "ax.legend(mode='wide',loc='best', bbox_to_anchor=(1, 1), title=\"Likely Topics\", \n",
    "          labels=(\n",
    "          \"0- Economy\",\n",
    "          \"1- Society - Social Media\",\n",
    "          \"2- Kaduna kills in Nigeria\",\n",
    "          \"3- Sudan Constitutional Period\",\n",
    "          \"4- Champions League\",\n",
    "          \"5- Elections\",\n",
    "          \"6- Unrest Gauteng SA\",\n",
    "          \"7- Covid News\"))\n",
    "\n",
    "ax.set_ylabel(\"Count\", fontsize=14)\n",
    "ax.set_xlabel(\"Country (Iso3)\", fontsize=14)\n",
    "ax.set_title(str(num_topics)+\" Topic Type per Country (LDAvis-EN)\",fontsize=18)\n",
    "for c in ax.containers:\n",
    "    labels=[v.get_height() if v.get_height() > 500 else '' for v in c]\n",
    "    ax.bar_label(c, labels=labels, label_type='center', fontsize=10 )\n",
    "\n",
    "#save it here:\n",
    "#plt.savefig(folder+str(num_topics)+'NewLDAvidTopicscountpercountry.png')\n"
   ]
  }
 ],
 "metadata": {
  "kernelspec": {
   "display_name": "Python 3.8.6 64-bit",
   "language": "python",
   "name": "python3"
  },
  "language_info": {
   "codemirror_mode": {
    "name": "ipython",
    "version": 3
   },
   "file_extension": ".py",
   "mimetype": "text/x-python",
   "name": "python",
   "nbconvert_exporter": "python",
   "pygments_lexer": "ipython3",
   "version": "3.8.6"
  },
  "orig_nbformat": 4,
  "vscode": {
   "interpreter": {
    "hash": "110707b9d723e1c444c54a483b1f1584fb109b164cd3977d8615832db624a1d7"
   }
  }
 },
 "nbformat": 4,
 "nbformat_minor": 2
}
