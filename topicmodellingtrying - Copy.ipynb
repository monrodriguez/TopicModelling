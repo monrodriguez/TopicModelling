{
 "cells": [
  {
   "cell_type": "code",
   "execution_count": 128,
   "metadata": {},
   "outputs": [],
   "source": [
    "import pandas as pd\n",
    "from sqlalchemy import create_engine\n",
    "from wordcloud import WordCloud\n",
    "import re"
   ]
  },
  {
   "cell_type": "code",
   "execution_count": null,
   "metadata": {},
   "outputs": [],
   "source": [
    "folder = \"XXX/\"\n",
    "file='XXX.csv'"
   ]
  },
  {
   "cell_type": "code",
   "execution_count": null,
   "metadata": {},
   "outputs": [],
   "source": [
    "df=pd.read_csv(folder+file)\n",
    "df"
   ]
  },
  {
   "cell_type": "code",
   "execution_count": null,
   "metadata": {},
   "outputs": [],
   "source": [
    "#get the date right and two columns for date and year\n",
    "df.publication_date = pd.to_datetime(df['publication_date'])\n",
    "\n",
    "df['just_date'] = df['publication_date'].dt.date\n",
    "df['just_year']= df['publication_date'].dt.year"
   ]
  },
  {
   "cell_type": "markdown",
   "metadata": {},
   "source": [
    "Add useful filters (remember to filter by language!- langauge!)"
   ]
  },
  {
   "cell_type": "code",
   "execution_count": null,
   "metadata": {},
   "outputs": [],
   "source": [
    "#filter by date\n",
    "dfmodern=df.loc[df.publication_date > \"30/04/2021\"]\n",
    "len(dfmodern)"
   ]
  },
  {
   "cell_type": "code",
   "execution_count": 148,
   "metadata": {},
   "outputs": [],
   "source": [
    "#filter by language\n",
    "dfmodernEN=df.loc[df.langauge == \"en\"]"
   ]
  },
  {
   "cell_type": "code",
   "execution_count": null,
   "metadata": {},
   "outputs": [],
   "source": [
    "#filter by country\n",
    "dfNGA=dfmodern.loc[dfmodern.country_iso3 == \"NGA\"]\n",
    "dfNGA"
   ]
  },
  {
   "cell_type": "markdown",
   "metadata": {},
   "source": [
    "Trying Topic modeling "
   ]
  },
  {
   "cell_type": "code",
   "execution_count": null,
   "metadata": {},
   "outputs": [],
   "source": [
    "#from: https://towardsdatascience.com/end-to-end-topic-modeling-in-python-latent-dirichlet-allocation-lda-35ce4ed6b3e0\n",
    "# Remove the columns\n",
    "papers = dfmodernEN.drop(columns=['publication_date', 'country_iso3','is_homepage','crawl_date','langauge','just_year'], axis=1)\n",
    "#Check this next one is only for a sample.\n",
    "#papers = dfNGA.drop(columns=['publication_date', 'country_iso3','is_homepage','crawl_date','langauge','just_year'], axis=1).sample(200)\n",
    "# Print out the first rows of papers\n",
    "len(papers)\n",
    "#papers.head()"
   ]
  },
  {
   "cell_type": "code",
   "execution_count": null,
   "metadata": {},
   "outputs": [],
   "source": [
    "# Load the regular expression library\n",
    "\n",
    "# Remove punctuation\n",
    "papers['paper_text_processed'] = \\\n",
    "papers['news_content'].map(lambda x: re.sub('[,\\.!?]', '', x))\n",
    "# Convert the titles to lowercase\n",
    "papers['paper_text_processed'] = \\\n",
    "papers['paper_text_processed'].map(lambda x: x.lower())\n",
    "# Print out the first rows of papers\n",
    "papers['paper_text_processed'].head()"
   ]
  },
  {
   "cell_type": "code",
   "execution_count": null,
   "metadata": {},
   "outputs": [],
   "source": [
    "#pip install wordcloud"
   ]
  },
  {
   "cell_type": "code",
   "execution_count": null,
   "metadata": {},
   "outputs": [],
   "source": [
    "# Import the wordcloud library\n",
    "from wordcloud import WordCloud\n",
    "\n",
    "\n",
    "# Join the different processed titles together.\n",
    "long_string = ','.join(list(papers['paper_text_processed'].values))\n",
    "# Create a WordCloud object\n",
    "wordcloud = WordCloud(background_color=\"white\", max_words=5000, contour_width=3, contour_color='steelblue')\n",
    "# Generate a word cloud\n",
    "wordcloud.generate(long_string)\n",
    "# Visualize the word cloud\n",
    "wordcloud.to_image()"
   ]
  },
  {
   "cell_type": "code",
   "execution_count": null,
   "metadata": {},
   "outputs": [],
   "source": [
    "import gensim\n",
    "from gensim.utils import simple_preprocess\n",
    "import nltk\n",
    "nltk.download('stopwords')\n",
    "from nltk.corpus import stopwords\n",
    "\n",
    "\n",
    "stop_words = stopwords.words('english')\n",
    "stop_words.extend(['from', 'subject', 're', 'edu', 'use', 'said'])\n",
    "def sent_to_words(sentences):\n",
    "    for sentence in sentences:\n",
    "        # deacc=True removes punctuations\n",
    "        yield(gensim.utils.simple_preprocess(str(sentence), deacc=True))\n",
    "def remove_stopwords(texts):\n",
    "    return [[word for word in simple_preprocess(str(doc)) \n",
    "             if word not in stop_words] for doc in texts]\n",
    "data = papers.paper_text_processed.values.tolist()\n",
    "data_words = list(sent_to_words(data))\n",
    "# remove stop words\n",
    "data_words = remove_stopwords(data_words)\n",
    "print(data_words[:1][0][:30])"
   ]
  },
  {
   "cell_type": "code",
   "execution_count": null,
   "metadata": {},
   "outputs": [],
   "source": [
    "import gensim.corpora as corpora\n",
    "\n",
    "# Create Dictionary\n",
    "id2word = corpora.Dictionary(data_words)\n",
    "# Create Corpus\n",
    "texts = data_words\n",
    "# Term Document Frequency\n",
    "corpus = [id2word.doc2bow(text) for text in texts]\n",
    "# View\n",
    "print(corpus[:1][0][:30])"
   ]
  },
  {
   "cell_type": "code",
   "execution_count": null,
   "metadata": {},
   "outputs": [],
   "source": [
    "from pprint import pprint\n",
    "from pprint import pprint\n",
    "\n",
    "\n",
    "# number of topics\n",
    "num_topics = 7\n",
    "\n",
    "\n",
    "# Build LDA model\n",
    "lda_model = gensim.models.LdaMulticore(corpus=corpus,\n",
    "                                       id2word=id2word,\n",
    "                                       num_topics=num_topics)\n",
    "\n",
    "\n",
    "# Print the Keyword in the 10 topics\n",
    "pprint(lda_model.print_topics())\n",
    "doc_lda = lda_model[corpus]"
   ]
  },
  {
   "cell_type": "code",
   "execution_count": null,
   "metadata": {},
   "outputs": [],
   "source": [
    "#import gensim.pyLDAvis\n",
    "import pyLDAvis.gensim_models\n",
    "#from pyLDAvis import gensim\n",
    "import pickle \n",
    "import pyLDAvis\n",
    "\n",
    "\n",
    "# Visualize the topics\n",
    "pyLDAvis.enable_notebook()\n",
    "LDAvis_data_filepath = os.path.join(folder+str(num_topics)+\"Allnews\")\n",
    "# # this is a bit time consuming - make the if statement True\n",
    "# # if you want to execute visualization prep yourself\n",
    "if 1 == 1:\n",
    "    LDAvis_prepared = pyLDAvis.gensim_models.prepare(lda_model, corpus, id2word)\n",
    "    with open(LDAvis_data_filepath, 'wb') as f:\n",
    "        pickle.dump(LDAvis_prepared, f)\n",
    "# load the pre-prepared pyLDAvis data from disk\n",
    "with open(LDAvis_data_filepath, 'rb') as f:\n",
    "    LDAvis_prepared = pickle.load(f)\n",
    "pyLDAvis.save_html(LDAvis_prepared, folder+ str(num_topics)+\"Allnews\" +'.html')\n",
    "LDAvis_prepared"
   ]
  },
  {
   "cell_type": "markdown",
   "metadata": {},
   "source": [
    "Interpreting: give each topic a title (interpret the clusters)\n",
    "\n",
    "1- Economy - Politics\n",
    "\n",
    "2- Society and social media\n",
    "\n",
    "3- Kaduna kills in Nigeria\n",
    "\n",
    "4- Sudan Constitutional Period\n",
    "\n",
    "5- Champions League\n",
    "\n",
    "6- Unrest Gauteng SA.\n",
    "\n",
    "7- Covid"
   ]
  },
   "source": [
    "\n",
    "lda_model[corpus][58319]"
   ]
  },
  {
   "cell_type": "code",
   "execution_count": 291,
   "metadata": {},
   "outputs": [],
   "source": [
    "#check this: \n",
    "    #https://towardsdatascience.com/topic-modelling-in-python-with-spacy-and-gensim-dc8f7748bdbf"
   ]
  },
  {
   "cell_type": "markdown",
   "metadata": {},
   "source": [
    "Bring topic back to df"
   ]
  },
  {
   "cell_type": "code",
   "execution_count": null,
   "metadata": {},
   "outputs": [],
   "source": [
    "dfmodernEN['topic'] = [sorted(lda_model[corpus][text])[0][0] for text in range(len(dfmodernEN['news_content']))]\n",
    "dfmodernEN"
   ]
  },
  {
   "cell_type": "code",
   "execution_count": null,
   "metadata": {},
   "outputs": [],
   "source": [
    "#count data by topic frequency\n",
    "dfmodernEN.topic.value_counts()"
   ]
  },
  {
   "cell_type": "code",
   "execution_count": 324,
   "metadata": {},
   "outputs": [],
   "source": [
    "#save the new dataframe\n",
    "dfmodernEN.to_csv(folder+str(num_topics)+\"XXXXX.csv\", encoding='utf-8')"
   ]
  },
  {
   "cell_type": "code",
   "execution_count": 169,
   "metadata": {},
   "outputs": [],
   "source": [
    "Nigeriatopics=dfmodernEN.loc[dfmodernEN.country_iso3 == \"NGA\"]\n",
    "ZMBtopics=dfmodernEN.loc[dfmodernEN.country_iso3 == \"ZMB\"]\n",
    "Nigeriatopicscount=Nigeriatopics.topic.value_counts()\n",
    "ZMBtopicscount=ZMBtopics.topic.value_counts()"
   ]
  },
  {
   "cell_type": "code",
   "execution_count": 325,
   "metadata": {},
   "outputs": [],
   "source": [
    "#df2 = dfmodernEN.pivot(index='country_iso3', columns='topic', values=dfmodernEN['topic'].value_counts())\n",
    "df2=pd.DataFrame({'count' : dfmodernEN.groupby( [\"country_iso3\",\"topic\"] ).size()}).reset_index()"
   ]
  },
  {
   "cell_type": "code",
   "execution_count": 326,
   "metadata": {},
   "outputs": [
    {
     "data": {
      "text/html": [
       "<div>\n",
       "<style scoped>\n",
       "    .dataframe tbody tr th:only-of-type {\n",
       "        vertical-align: middle;\n",
       "    }\n",
       "\n",
       "    .dataframe tbody tr th {\n",
       "        vertical-align: top;\n",
       "    }\n",
       "\n",
       "    .dataframe thead th {\n",
       "        text-align: right;\n",
       "    }\n",
       "</style>\n",
       "<table border=\"1\" class=\"dataframe\">\n",
       "  <thead>\n",
       "    <tr style=\"text-align: right;\">\n",
       "      <th></th>\n",
       "      <th>country_iso3</th>\n",
       "      <th>topic</th>\n",
       "      <th>count</th>\n",
       "    </tr>\n",
       "  </thead>\n",
       "  <tbody>\n",
       "    <tr>\n",
       "      <th>6</th>\n",
       "      <td>AFR</td>\n",
       "      <td>6</td>\n",
       "      <td>11</td>\n",
       "    </tr>\n",
       "    <tr>\n",
       "      <th>21</th>\n",
       "      <td>CHN</td>\n",
       "      <td>6</td>\n",
       "      <td>115</td>\n",
       "    </tr>\n",
       "    <tr>\n",
       "      <th>28</th>\n",
       "      <td>CMR</td>\n",
       "      <td>6</td>\n",
       "      <td>5</td>\n",
       "    </tr>\n",
       "    <tr>\n",
       "      <th>38</th>\n",
       "      <td>GHA</td>\n",
       "      <td>6</td>\n",
       "      <td>160</td>\n",
       "    </tr>\n",
       "    <tr>\n",
       "      <th>45</th>\n",
       "      <td>GMB</td>\n",
       "      <td>6</td>\n",
       "      <td>1</td>\n",
       "    </tr>\n",
       "    <tr>\n",
       "      <th>52</th>\n",
       "      <td>KEN</td>\n",
       "      <td>6</td>\n",
       "      <td>34</td>\n",
       "    </tr>\n",
       "    <tr>\n",
       "      <th>59</th>\n",
       "      <td>LBR</td>\n",
       "      <td>6</td>\n",
       "      <td>4</td>\n",
       "    </tr>\n",
       "    <tr>\n",
       "      <th>72</th>\n",
       "      <td>MWI</td>\n",
       "      <td>6</td>\n",
       "      <td>3</td>\n",
       "    </tr>\n",
       "    <tr>\n",
       "      <th>79</th>\n",
       "      <td>NAM</td>\n",
       "      <td>6</td>\n",
       "      <td>1</td>\n",
       "    </tr>\n",
       "    <tr>\n",
       "      <th>86</th>\n",
       "      <td>NGA</td>\n",
       "      <td>6</td>\n",
       "      <td>3562</td>\n",
       "    </tr>\n",
       "    <tr>\n",
       "      <th>93</th>\n",
       "      <td>RWA</td>\n",
       "      <td>6</td>\n",
       "      <td>2</td>\n",
       "    </tr>\n",
       "    <tr>\n",
       "      <th>100</th>\n",
       "      <td>SLE</td>\n",
       "      <td>6</td>\n",
       "      <td>5</td>\n",
       "    </tr>\n",
       "    <tr>\n",
       "      <th>107</th>\n",
       "      <td>SSD</td>\n",
       "      <td>6</td>\n",
       "      <td>1</td>\n",
       "    </tr>\n",
       "    <tr>\n",
       "      <th>114</th>\n",
       "      <td>UGA</td>\n",
       "      <td>6</td>\n",
       "      <td>30</td>\n",
       "    </tr>\n",
       "    <tr>\n",
       "      <th>120</th>\n",
       "      <td>USA</td>\n",
       "      <td>6</td>\n",
       "      <td>6</td>\n",
       "    </tr>\n",
       "    <tr>\n",
       "      <th>127</th>\n",
       "      <td>ZAF</td>\n",
       "      <td>6</td>\n",
       "      <td>26</td>\n",
       "    </tr>\n",
       "    <tr>\n",
       "      <th>134</th>\n",
       "      <td>ZMB</td>\n",
       "      <td>6</td>\n",
       "      <td>3</td>\n",
       "    </tr>\n",
       "    <tr>\n",
       "      <th>141</th>\n",
       "      <td>ZWE</td>\n",
       "      <td>6</td>\n",
       "      <td>11</td>\n",
       "    </tr>\n",
       "  </tbody>\n",
       "</table>\n",
       "</div>"
      ],
      "text/plain": [
       "    country_iso3  topic  count\n",
       "6            AFR      6     11\n",
       "21           CHN      6    115\n",
       "28           CMR      6      5\n",
       "38           GHA      6    160\n",
       "45           GMB      6      1\n",
       "52           KEN      6     34\n",
       "59           LBR      6      4\n",
       "72           MWI      6      3\n",
       "79           NAM      6      1\n",
       "86           NGA      6   3562\n",
       "93           RWA      6      2\n",
       "100          SLE      6      5\n",
       "107          SSD      6      1\n",
       "114          UGA      6     30\n",
       "120          USA      6      6\n",
       "127          ZAF      6     26\n",
       "134          ZMB      6      3\n",
       "141          ZWE      6     11"
      ]
     },
     "execution_count": 326,
     "metadata": {},
     "output_type": "execute_result"
    }
   ],
   "source": [
    "df2.loc[df2.topic== 6]"
   ]
  },
  {
   "cell_type": "code",
   "execution_count": 327,
   "metadata": {},
   "outputs": [],
   "source": [
    "df2 = df2.pivot(index='country_iso3', columns='topic', values='count')"
   ]
  },
  {
   "cell_type": "code",
   "execution_count": 210,
   "metadata": {},
   "outputs": [],
   "source": [
    "import matplotlib.pyplot as plt"
   ]
  },
  {
   "cell_type": "code",
   "execution_count": 328,
   "metadata": {},
   "outputs": [
    {
     "data": {
      "image/png": "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",
      "text/plain": [
       "<Figure size 1440x1080 with 1 Axes>"
      ]
     },
     "metadata": {
      "needs_background": "light"
     },
     "output_type": "display_data"
    }
   ],
   "source": [
    "ax=df2.plot( kind='bar', figsize=(20,15), width = 1, linewidth=2, stacked=True, fontsize=12)\n",
    "ax.legend(mode='wide',loc='best', bbox_to_anchor=(1, 1), title=\"Likely Topics\", \n",
    "          labels=(\n",
    "          \"0- Economy\",\n",
    "          \"1- Society - Social Media\",\n",
    "          \"2- Kaduna kills in Nigeria\",\n",
    "          \"3- Sudan Constitutional Period\",\n",
    "          \"4- Champions League\",\n",
    "          \"5- Elections\",\n",
    "          \"6- Unrest Gauteng SA\",\n",
    "          \"7- Covid News\"))\n",
    "\n",
    "ax.set_ylabel(\"Count\", fontsize=14)\n",
    "ax.set_xlabel(\"Country (Iso3)\", fontsize=14)\n",
    "ax.set_title(str(num_topics)+\" Topic Type per Country (LDAvis-EN)\",fontsize=18)\n",
    "for c in ax.containers:\n",
    "    labels=[v.get_height() if v.get_height() > 500 else '' for v in c]\n",
    "    ax.bar_label(c, labels=labels, label_type='center', fontsize=10 )\n",
    "plt.savefig(folder+str(num_topics)+'NewLDAvidTopicscountpercountry.png')\n",
    "#plt.savefig(folder+'newspercountryday-MayJune21.png')"
   ]
  },
  {
   "cell_type": "code",
   "execution_count": 180,
   "metadata": {},
   "outputs": [
    {
     "data": {
      "text/plain": [
       "<AxesSubplot:title={'center':'Topics in Nigeria'}>"
      ]
     },
     "execution_count": 180,
     "metadata": {},
     "output_type": "execute_result"
    },
    {
     "data": {
      "image/png": "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",
      "text/plain": [
       "<Figure size 792x432 with 1 Axes>"
      ]
     },
     "metadata": {
      "needs_background": "light"
     },
     "output_type": "display_data"
    }
   ],
   "source": [
    "Nigeriatopicscount.plot.bar(figsize=(11,6),title=\"Topics in Nigeria\")\n",
    "                            #colours=[]\n",
    "                            #labels=['french','english'],\n",
    "                            #autopct='%.1f%%')\n",
    "                            #.get_figure()\n",
    "                            #.savefig(folder+'NewsperLanguage.png')\n"
   ]
  },
  {
   "cell_type": "code",
   "execution_count": 181,
   "metadata": {},
   "outputs": [
    {
     "data": {
      "text/plain": [
       "<AxesSubplot:title={'center':'Topics in Zambia'}>"
      ]
     },
     "execution_count": 181,
     "metadata": {},
     "output_type": "execute_result"
    },
    {
     "data": {
      "image/png": "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",
      "text/plain": [
       "<Figure size 792x432 with 1 Axes>"
      ]
     },
     "metadata": {
      "needs_background": "light"
     },
     "output_type": "display_data"
    }
   ],
   "source": [
    "ZMBtopicscount.plot.bar(figsize=(11,6), title=\"Topics in Zambia\")\n",
    "                            #labels=['french','english'],\n",
    "#                            autopct='%.2f%%')"
   ]
  },
  {
   "cell_type": "code",
   "execution_count": 141,
   "metadata": {},
   "outputs": [
    {
     "data": {
      "text/plain": [
       "35      Rashford racially abused online following Man ...\n",
       "70      Nigerian Army are reportedly raiding hotels ar...\n",
       "115     The Super Eagles were held to a goalless draw ...\n",
       "215     By Ozioruva Aliu, Benin-City\\nThe families of ...\n",
       "238     Egypt’s prosecutor-general on Tuesday ordered ...\n",
       "243     By Gbemisola Adesola\\nFollowing the successful...\n",
       "262     UK will not extend settlement scheme deadline ...\n",
       "415     Low turnout of voters marred Saturday’s by-ele...\n",
       "462     Some 14 abducted students of Greenfield Univer...\n",
       "502     By; JACOB ONJEWU DICKSON\\nThe Nigerian Army (N...\n",
       "614     By Alex Enebeli\\nNigerian-American singer, son...\n",
       "696     Nigerian singer, Dice Ailes, has said it's una...\n",
       "733     The Federal Capital Territory High Court in Ap...\n",
       "738     The Islamic State West African Province (ISWAP...\n",
       "774     Israel has conducted dozens of air strikes on ...\n",
       "792     Within Nigeria - Latest & Trending Nigeria New...\n",
       "825     The Police Command in Anambra has confirmed th...\n",
       "835     On Thursday, Muslim faithful gathered at the p...\n",
       "838     TRENDING IN 48-Hrs\\nEx-classmate reveals the T...\n",
       "885     The Economic and Financial Crimes Commission h...\n",
       "953     Welcome to another Heineken #NeverWatchingAlon...\n",
       "964     The Police Command in Ebonyi on Monday, parade...\n",
       "1041    BERLIN - The United Nations said 12 German tro...\n",
       "1082    Sen. Andy Uba emergence as the candidate of th...\n",
       "1084    KANO – Eagle eyes security personnel attached ...\n",
       "1257    Jubilation As Man United Star Returns To Train...\n",
       "1271    By Muftau Ogunyemi\\nSome yet-to-be-identified ...\n",
       "1312    Mrs Ekaette Unoma Akpabio, former First Lady o...\n",
       "1323    The Lagos judicial panel has awarded the sum o...\n",
       "1325    Gunmen suspected to be members of the Indigeno...\n",
       "1340    John Legend Criticized For Keeping Silent Afte...\n",
       "1428    The Nigerian Railway Corporation (NRC) has apo...\n",
       "1454    Hong Kong pro-democracy activist Agnes Chow wa...\n",
       "1462    Barcelona are reportedly confident that Lionel...\n",
       "1494    Manchester United are set to make Paul Pogba t...\n",
       "1567    155 views |  Olusegun Adeniyi | June 3, 2021\\n...\n",
       "1707    Amara, lesbian nags after landlady rejected he...\n",
       "1747    In the wake of the detention of Malian Preside...\n",
       "1870    A video of three pilot officers having a good ...\n",
       "1889    Thursday, June 17, 2021 7:37 am\\nThe Police on...\n",
       "2100    Forty-six students of the University of Abuja ...\n",
       "2199    The Niger State Government has dismissed 374 c...\n",
       "2289    EFCC Takes Action as 5 Sokoto Govt Officials D...\n",
       "2365    Super Eagles Star marries Popular Hausa Film S...\n",
       "2373    Nigerian football star emerges top transfer ta...\n",
       "2412    From TONY JOHN, Port Harcourt\\nRivers State, N...\n",
       "2461    Egypt has opened the Rafah border crossing a d...\n",
       "2643    A director in the Ministry of Foreign Affairs ...\n",
       "2644    2 killed, over 20 hurt in deadly shooting near...\n",
       "2649    Operatives of the Ibadan, Federal Capital Terr...\n",
       "Name: news_content, dtype: object"
      ]
     },
     "execution_count": 141,
     "metadata": {},
     "output_type": "execute_result"
    }
   ],
   "source": [
    "dfbla=dfNGA.loc[dfNGA.topic == 1]\n",
    "dfbla['news_content'].head(50)"
   ]
  },
  {
   "cell_type": "code",
   "execution_count": null,
   "metadata": {},
   "outputs": [],
   "source": []
  }
 ],
 "metadata": {
  "kernelspec": {
   "display_name": "Python 3.8.6 64-bit",
   "language": "python",
   "name": "python3"
  },
  "language_info": {
   "codemirror_mode": {
    "name": "ipython",
    "version": 3
   },
   "file_extension": ".py",
   "mimetype": "text/x-python",
   "name": "python",
   "nbconvert_exporter": "python",
   "pygments_lexer": "ipython3",
   "version": "3.8.6"
  },
  "orig_nbformat": 4,
  "vscode": {
   "interpreter": {
    "hash": "110707b9d723e1c444c54a483b1f1584fb109b164cd3977d8615832db624a1d7"
   }
  }
 },
 "nbformat": 4,
 "nbformat_minor": 2
}
